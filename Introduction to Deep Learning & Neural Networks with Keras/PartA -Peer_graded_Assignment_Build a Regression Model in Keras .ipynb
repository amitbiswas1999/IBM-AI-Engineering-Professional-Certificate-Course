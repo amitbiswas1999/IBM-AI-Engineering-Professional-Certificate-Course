{
 "cells": [
  {
   "cell_type": "markdown",
   "id": "88ea7b64",
   "metadata": {},
   "source": [
    "# Load the dataset"
   ]
  },
  {
   "cell_type": "code",
   "execution_count": 1,
   "id": "56fff672",
   "metadata": {},
   "outputs": [],
   "source": [
    "import warnings\n",
    "warnings.filterwarnings('ignore')"
   ]
  },
  {
   "cell_type": "code",
   "execution_count": 3,
   "id": "c01e91e5",
   "metadata": {},
   "outputs": [
    {
     "data": {
      "text/html": [
       "<div>\n",
       "<style scoped>\n",
       "    .dataframe tbody tr th:only-of-type {\n",
       "        vertical-align: middle;\n",
       "    }\n",
       "\n",
       "    .dataframe tbody tr th {\n",
       "        vertical-align: top;\n",
       "    }\n",
       "\n",
       "    .dataframe thead th {\n",
       "        text-align: right;\n",
       "    }\n",
       "</style>\n",
       "<table border=\"1\" class=\"dataframe\">\n",
       "  <thead>\n",
       "    <tr style=\"text-align: right;\">\n",
       "      <th></th>\n",
       "      <th>Cement</th>\n",
       "      <th>Blast Furnace Slag</th>\n",
       "      <th>Fly Ash</th>\n",
       "      <th>Water</th>\n",
       "      <th>Superplasticizer</th>\n",
       "      <th>Coarse Aggregate</th>\n",
       "      <th>Fine Aggregate</th>\n",
       "      <th>Age</th>\n",
       "      <th>Strength</th>\n",
       "    </tr>\n",
       "  </thead>\n",
       "  <tbody>\n",
       "    <tr>\n",
       "      <th>0</th>\n",
       "      <td>540.0</td>\n",
       "      <td>0.0</td>\n",
       "      <td>0.0</td>\n",
       "      <td>162.0</td>\n",
       "      <td>2.5</td>\n",
       "      <td>1040.0</td>\n",
       "      <td>676.0</td>\n",
       "      <td>28</td>\n",
       "      <td>79.99</td>\n",
       "    </tr>\n",
       "    <tr>\n",
       "      <th>1</th>\n",
       "      <td>540.0</td>\n",
       "      <td>0.0</td>\n",
       "      <td>0.0</td>\n",
       "      <td>162.0</td>\n",
       "      <td>2.5</td>\n",
       "      <td>1055.0</td>\n",
       "      <td>676.0</td>\n",
       "      <td>28</td>\n",
       "      <td>61.89</td>\n",
       "    </tr>\n",
       "    <tr>\n",
       "      <th>2</th>\n",
       "      <td>332.5</td>\n",
       "      <td>142.5</td>\n",
       "      <td>0.0</td>\n",
       "      <td>228.0</td>\n",
       "      <td>0.0</td>\n",
       "      <td>932.0</td>\n",
       "      <td>594.0</td>\n",
       "      <td>270</td>\n",
       "      <td>40.27</td>\n",
       "    </tr>\n",
       "    <tr>\n",
       "      <th>3</th>\n",
       "      <td>332.5</td>\n",
       "      <td>142.5</td>\n",
       "      <td>0.0</td>\n",
       "      <td>228.0</td>\n",
       "      <td>0.0</td>\n",
       "      <td>932.0</td>\n",
       "      <td>594.0</td>\n",
       "      <td>365</td>\n",
       "      <td>41.05</td>\n",
       "    </tr>\n",
       "    <tr>\n",
       "      <th>4</th>\n",
       "      <td>198.6</td>\n",
       "      <td>132.4</td>\n",
       "      <td>0.0</td>\n",
       "      <td>192.0</td>\n",
       "      <td>0.0</td>\n",
       "      <td>978.4</td>\n",
       "      <td>825.5</td>\n",
       "      <td>360</td>\n",
       "      <td>44.30</td>\n",
       "    </tr>\n",
       "  </tbody>\n",
       "</table>\n",
       "</div>"
      ],
      "text/plain": [
       "   Cement  Blast Furnace Slag  Fly Ash  Water  Superplasticizer  \\\n",
       "0   540.0                 0.0      0.0  162.0               2.5   \n",
       "1   540.0                 0.0      0.0  162.0               2.5   \n",
       "2   332.5               142.5      0.0  228.0               0.0   \n",
       "3   332.5               142.5      0.0  228.0               0.0   \n",
       "4   198.6               132.4      0.0  192.0               0.0   \n",
       "\n",
       "   Coarse Aggregate  Fine Aggregate  Age  Strength  \n",
       "0            1040.0           676.0   28     79.99  \n",
       "1            1055.0           676.0   28     61.89  \n",
       "2             932.0           594.0  270     40.27  \n",
       "3             932.0           594.0  365     41.05  \n",
       "4             978.4           825.5  360     44.30  "
      ]
     },
     "execution_count": 3,
     "metadata": {},
     "output_type": "execute_result"
    }
   ],
   "source": [
    "import pandas as pd\n",
    "import numpy as np\n",
    "\n",
    "df = pd.read_csv('concrete_data.csv')\n",
    "df.head()"
   ]
  },
  {
   "cell_type": "code",
   "execution_count": 4,
   "id": "98dd5a02",
   "metadata": {},
   "outputs": [
    {
     "data": {
      "text/plain": [
       "(1030, 9)"
      ]
     },
     "execution_count": 4,
     "metadata": {},
     "output_type": "execute_result"
    }
   ],
   "source": [
    "df.shape  #check Number of datapoints"
   ]
  },
  {
   "cell_type": "code",
   "execution_count": 5,
   "id": "4ff40912",
   "metadata": {},
   "outputs": [
    {
     "name": "stdout",
     "output_type": "stream",
     "text": [
      "<class 'pandas.core.frame.DataFrame'>\n",
      "RangeIndex: 1030 entries, 0 to 1029\n",
      "Data columns (total 9 columns):\n",
      " #   Column              Non-Null Count  Dtype  \n",
      "---  ------              --------------  -----  \n",
      " 0   Cement              1030 non-null   float64\n",
      " 1   Blast Furnace Slag  1030 non-null   float64\n",
      " 2   Fly Ash             1030 non-null   float64\n",
      " 3   Water               1030 non-null   float64\n",
      " 4   Superplasticizer    1030 non-null   float64\n",
      " 5   Coarse Aggregate    1030 non-null   float64\n",
      " 6   Fine Aggregate      1030 non-null   float64\n",
      " 7   Age                 1030 non-null   int64  \n",
      " 8   Strength            1030 non-null   float64\n",
      "dtypes: float64(8), int64(1)\n",
      "memory usage: 72.5 KB\n"
     ]
    }
   ],
   "source": [
    "df.info()"
   ]
  },
  {
   "cell_type": "markdown",
   "id": "813ad2dc",
   "metadata": {},
   "source": [
    "there is no null values"
   ]
  },
  {
   "cell_type": "markdown",
   "id": "92907ad6",
   "metadata": {},
   "source": [
    "# Split data into X and y"
   ]
  },
  {
   "cell_type": "code",
   "execution_count": 6,
   "id": "66b04121",
   "metadata": {},
   "outputs": [],
   "source": [
    "X = df.drop('Strength', axis=1)\n",
    "y = df['Strength']"
   ]
  },
  {
   "cell_type": "markdown",
   "id": "5b5f5f11",
   "metadata": {},
   "source": [
    "# Use the Keras library to build a neural network with the following:\n",
    "\n",
    "- One hidden layer of 10 nodes, and a ReLU activation function\n",
    "\n",
    "- Use the adam optimizer and the mean squared error  as the loss function"
   ]
  },
  {
   "cell_type": "code",
   "execution_count": 8,
   "id": "ef1364cf",
   "metadata": {},
   "outputs": [],
   "source": [
    "import keras\n",
    "from keras.models import Sequential\n",
    "from keras.layers import Dense\n",
    "\n",
    "def ANN_model():\n",
    "    # create model\n",
    "    model = Sequential()\n",
    "    model.add(Dense(10, activation='relu', input_shape=(X.shape[1],)))\n",
    "    model.add(Dense(1))\n",
    "    \n",
    "    # compile model\n",
    "    model.compile(optimizer='adam', loss='mean_squared_error')\n",
    "    return model"
   ]
  },
  {
   "cell_type": "markdown",
   "id": "7fc58823",
   "metadata": {},
   "source": [
    "#  split the data into a training and test sets by holding 30% of the data for testing"
   ]
  },
  {
   "cell_type": "code",
   "execution_count": 9,
   "id": "cb65811c",
   "metadata": {},
   "outputs": [],
   "source": [
    "from sklearn.model_selection import train_test_split\n",
    "X_train, X_test, y_train, y_test = train_test_split(X, y, test_size=0.3, random_state=42)\n"
   ]
  },
  {
   "cell_type": "markdown",
   "id": "e5f3ec08",
   "metadata": {},
   "source": [
    "#  call the function now to create our model."
   ]
  },
  {
   "cell_type": "code",
   "execution_count": 11,
   "id": "6ca9f0ec",
   "metadata": {},
   "outputs": [
    {
     "name": "stdout",
     "output_type": "stream",
     "text": [
      "Epoch 1/50\n",
      "23/23 [==============================] - 1s 3ms/step - loss: 34475.8633\n",
      "Epoch 2/50\n",
      "23/23 [==============================] - 0s 4ms/step - loss: 5262.0806\n",
      "Epoch 3/50\n",
      "23/23 [==============================] - 0s 3ms/step - loss: 3360.8435\n",
      "Epoch 4/50\n",
      "23/23 [==============================] - 0s 3ms/step - loss: 2731.6443\n",
      "Epoch 5/50\n",
      "23/23 [==============================] - 0s 4ms/step - loss: 2334.7783\n",
      "Epoch 6/50\n",
      "23/23 [==============================] - 0s 3ms/step - loss: 1993.1078\n",
      "Epoch 7/50\n",
      "23/23 [==============================] - 0s 3ms/step - loss: 1704.9113\n",
      "Epoch 8/50\n",
      "23/23 [==============================] - 0s 4ms/step - loss: 1458.4976\n",
      "Epoch 9/50\n",
      "23/23 [==============================] - 0s 4ms/step - loss: 1241.3097\n",
      "Epoch 10/50\n",
      "23/23 [==============================] - 0s 4ms/step - loss: 1065.3582\n",
      "Epoch 11/50\n",
      "23/23 [==============================] - 0s 5ms/step - loss: 916.2027\n",
      "Epoch 12/50\n",
      "23/23 [==============================] - 0s 5ms/step - loss: 788.4944\n",
      "Epoch 13/50\n",
      "23/23 [==============================] - 0s 5ms/step - loss: 680.7433\n",
      "Epoch 14/50\n",
      "23/23 [==============================] - 0s 5ms/step - loss: 596.3019\n",
      "Epoch 15/50\n",
      "23/23 [==============================] - 0s 4ms/step - loss: 524.1241\n",
      "Epoch 16/50\n",
      "23/23 [==============================] - 0s 5ms/step - loss: 463.9099\n",
      "Epoch 17/50\n",
      "23/23 [==============================] - 0s 5ms/step - loss: 416.1684\n",
      "Epoch 18/50\n",
      "23/23 [==============================] - 0s 4ms/step - loss: 374.6836\n",
      "Epoch 19/50\n",
      "23/23 [==============================] - 0s 5ms/step - loss: 341.9962\n",
      "Epoch 20/50\n",
      "23/23 [==============================] - 0s 4ms/step - loss: 313.2478\n",
      "Epoch 21/50\n",
      "23/23 [==============================] - 0s 4ms/step - loss: 290.4185\n",
      "Epoch 22/50\n",
      "23/23 [==============================] - 0s 4ms/step - loss: 268.7649\n",
      "Epoch 23/50\n",
      "23/23 [==============================] - 0s 4ms/step - loss: 252.2080\n",
      "Epoch 24/50\n",
      "23/23 [==============================] - 0s 4ms/step - loss: 237.0377\n",
      "Epoch 25/50\n",
      "23/23 [==============================] - 0s 3ms/step - loss: 225.8282\n",
      "Epoch 26/50\n",
      "23/23 [==============================] - 0s 4ms/step - loss: 211.5287\n",
      "Epoch 27/50\n",
      "23/23 [==============================] - 0s 4ms/step - loss: 200.3663\n",
      "Epoch 28/50\n",
      "23/23 [==============================] - 0s 4ms/step - loss: 190.5448\n",
      "Epoch 29/50\n",
      "23/23 [==============================] - 0s 5ms/step - loss: 182.9619\n",
      "Epoch 30/50\n",
      "23/23 [==============================] - 0s 5ms/step - loss: 175.2188\n",
      "Epoch 31/50\n",
      "23/23 [==============================] - 0s 5ms/step - loss: 168.4965\n",
      "Epoch 32/50\n",
      "23/23 [==============================] - 0s 6ms/step - loss: 164.8777\n",
      "Epoch 33/50\n",
      "23/23 [==============================] - 0s 5ms/step - loss: 158.2164\n",
      "Epoch 34/50\n",
      "23/23 [==============================] - 0s 5ms/step - loss: 152.2450\n",
      "Epoch 35/50\n",
      "23/23 [==============================] - 0s 5ms/step - loss: 149.5052\n",
      "Epoch 36/50\n",
      "23/23 [==============================] - 0s 4ms/step - loss: 144.8961\n",
      "Epoch 37/50\n",
      "23/23 [==============================] - 0s 4ms/step - loss: 140.2036\n",
      "Epoch 38/50\n",
      "23/23 [==============================] - 0s 4ms/step - loss: 136.9033\n",
      "Epoch 39/50\n",
      "23/23 [==============================] - 0s 5ms/step - loss: 135.1859\n",
      "Epoch 40/50\n",
      "23/23 [==============================] - 0s 5ms/step - loss: 131.6335\n",
      "Epoch 41/50\n",
      "23/23 [==============================] - 0s 4ms/step - loss: 129.2725\n",
      "Epoch 42/50\n",
      "23/23 [==============================] - 0s 7ms/step - loss: 127.6978\n",
      "Epoch 43/50\n",
      "23/23 [==============================] - 0s 4ms/step - loss: 126.5530\n",
      "Epoch 44/50\n",
      "23/23 [==============================] - 0s 5ms/step - loss: 124.9952\n",
      "Epoch 45/50\n",
      "23/23 [==============================] - 0s 5ms/step - loss: 123.2296\n",
      "Epoch 46/50\n",
      "23/23 [==============================] - 0s 5ms/step - loss: 121.9453\n",
      "Epoch 47/50\n",
      "23/23 [==============================] - 0s 5ms/step - loss: 120.9377\n",
      "Epoch 48/50\n",
      "23/23 [==============================] - 0s 5ms/step - loss: 120.7669\n",
      "Epoch 49/50\n",
      "23/23 [==============================] - 0s 5ms/step - loss: 119.4568\n",
      "Epoch 50/50\n",
      "23/23 [==============================] - 0s 5ms/step - loss: 118.1858\n"
     ]
    },
    {
     "data": {
      "text/plain": [
       "<keras.src.callbacks.History at 0x2247074ceb0>"
      ]
     },
     "execution_count": 11,
     "metadata": {},
     "output_type": "execute_result"
    }
   ],
   "source": [
    "model = ANN_model()\n",
    "epochs = 50\n",
    "model.fit(X_train, y_train, epochs=epochs, verbose=1)"
   ]
  },
  {
   "cell_type": "markdown",
   "id": "181d9101",
   "metadata": {},
   "source": [
    "#  Evaluate the model on the test data "
   ]
  },
  {
   "cell_type": "code",
   "execution_count": 12,
   "id": "ced8c06e",
   "metadata": {},
   "outputs": [
    {
     "name": "stdout",
     "output_type": "stream",
     "text": [
      "10/10 [==============================] - 0s 4ms/step - loss: 110.8123\n",
      "10/10 [==============================] - 0s 3ms/step\n"
     ]
    },
    {
     "data": {
      "text/plain": [
       "110.81227111816406"
      ]
     },
     "execution_count": 12,
     "metadata": {},
     "output_type": "execute_result"
    }
   ],
   "source": [
    "loss_val = model.evaluate(X_test, y_test)\n",
    "y_pred = model.predict(X_test)\n",
    "loss_val"
   ]
  },
  {
   "cell_type": "code",
   "execution_count": 13,
   "id": "d789e476",
   "metadata": {},
   "outputs": [
    {
     "name": "stdout",
     "output_type": "stream",
     "text": [
      "110.81226539052443 0.0\n"
     ]
    }
   ],
   "source": [
    "from sklearn.metrics import mean_squared_error\n",
    "mean_square_error = mean_squared_error(y_test, y_pred)\n",
    "mean = np.mean(mean_square_error)\n",
    "standard_deviation = np.std(mean_square_error)\n",
    "print(mean, standard_deviation)"
   ]
  },
  {
   "cell_type": "markdown",
   "id": "e41c1b99",
   "metadata": {},
   "source": []
  },
  {
   "cell_type": "code",
   "execution_count": 16,
   "id": "0abee19a",
   "metadata": {},
   "outputs": [
    {
     "name": "stdout",
     "output_type": "stream",
     "text": [
      "10/10 [==============================] - 0s 5ms/step\n",
      "10/10 [==============================] - 0s 4ms/step\n",
      "10/10 [==============================] - 0s 13ms/step\n",
      "10/10 [==============================] - 0s 4ms/step\n",
      "10/10 [==============================] - 0s 4ms/step\n",
      "10/10 [==============================] - 0s 3ms/step\n",
      "10/10 [==============================] - 0s 4ms/step\n",
      "10/10 [==============================] - 0s 5ms/step\n",
      "10/10 [==============================] - 0s 3ms/step\n",
      "10/10 [==============================] - 0s 3ms/step\n",
      "10/10 [==============================] - 0s 4ms/step\n",
      "10/10 [==============================] - 0s 4ms/step\n",
      "10/10 [==============================] - 0s 4ms/step\n",
      "10/10 [==============================] - 0s 4ms/step\n",
      "10/10 [==============================] - 0s 4ms/step\n",
      "10/10 [==============================] - 0s 2ms/step\n",
      "10/10 [==============================] - 0s 4ms/step\n",
      "10/10 [==============================] - 0s 5ms/step\n",
      "10/10 [==============================] - 0s 8ms/step\n",
      "10/10 [==============================] - 0s 2ms/step\n",
      "10/10 [==============================] - 0s 3ms/step\n",
      "10/10 [==============================] - 0s 4ms/step\n",
      "10/10 [==============================] - 0s 7ms/step\n",
      "10/10 [==============================] - 0s 4ms/step\n",
      "10/10 [==============================] - 0s 2ms/step\n",
      "10/10 [==============================] - 0s 5ms/step\n",
      "10/10 [==============================] - 0s 3ms/step\n",
      "10/10 [==============================] - 0s 3ms/step\n",
      "10/10 [==============================] - 0s 4ms/step\n",
      "10/10 [==============================] - 0s 5ms/step\n",
      "10/10 [==============================] - 0s 3ms/step\n",
      "10/10 [==============================] - 0s 5ms/step\n",
      "10/10 [==============================] - 0s 4ms/step\n",
      "10/10 [==============================] - 0s 5ms/step\n",
      "10/10 [==============================] - 0s 3ms/step\n",
      "10/10 [==============================] - 0s 4ms/step\n",
      "10/10 [==============================] - 0s 4ms/step\n",
      "10/10 [==============================] - 0s 5ms/step\n",
      "10/10 [==============================] - 0s 5ms/step\n",
      "10/10 [==============================] - 0s 2ms/step\n",
      "10/10 [==============================] - 0s 4ms/step\n",
      "10/10 [==============================] - 0s 6ms/step\n",
      "10/10 [==============================] - 0s 5ms/step\n",
      "10/10 [==============================] - 0s 4ms/step\n",
      "10/10 [==============================] - 0s 4ms/step\n",
      "10/10 [==============================] - 0s 6ms/step\n",
      "10/10 [==============================] - 0s 8ms/step\n",
      "10/10 [==============================] - 0s 4ms/step\n",
      "10/10 [==============================] - 0s 5ms/step\n",
      "10/10 [==============================] - 0s 3ms/step\n"
     ]
    }
   ],
   "source": [
    "# Number of repetitions\n",
    "repetitions = 50\n",
    "\n",
    "# Lists to store mean squared errors\n",
    "mse_list = []\n",
    "\n",
    "# Repeat the process 50 times\n",
    "for _ in range(repetitions):\n",
    "    # Split the data into training and test sets\n",
    "    X_train, X_test, y_train, y_test = train_test_split(X, y, test_size=0.3, random_state=42)\n",
    "\n",
    "    model = ANN_model()\n",
    "    # Train the model\n",
    "    model.fit(X_train, y_train, epochs=50, verbose=0)\n",
    "\n",
    "    # Predict on the test set\n",
    "    y_pred = model.predict(X_test)\n",
    "\n",
    "    # Calculate mean squared error and append to the list\n",
    "    mse = mean_squared_error(y_test, y_pred)\n",
    "    mse_list.append(mse)\n"
   ]
  },
  {
   "cell_type": "markdown",
   "id": "e13914d2",
   "metadata": {},
   "source": [
    "#  mean and the standard deviation of the mean squared errors"
   ]
  },
  {
   "cell_type": "code",
   "execution_count": 17,
   "id": "71017d04",
   "metadata": {},
   "outputs": [
    {
     "name": "stdout",
     "output_type": "stream",
     "text": [
      "Mean: 474.8163037849021\n",
      "Standard Deviation: 617.4718584646985\n"
     ]
    }
   ],
   "source": [
    "mean_squared_errors = np.array(mse_list)\n",
    "mean = np.mean(mean_squared_errors)\n",
    "standard_deviation = np.std(mse_list)\n",
    "print(\"Mean: \"+str(mean))\n",
    "print(\"Standard Deviation: \"+str(standard_deviation))"
   ]
  },
  {
   "cell_type": "code",
   "execution_count": null,
   "id": "fe14a6ff",
   "metadata": {},
   "outputs": [],
   "source": []
  }
 ],
 "metadata": {
  "kernelspec": {
   "display_name": "Python 3 (ipykernel)",
   "language": "python",
   "name": "python3"
  },
  "language_info": {
   "codemirror_mode": {
    "name": "ipython",
    "version": 3
   },
   "file_extension": ".py",
   "mimetype": "text/x-python",
   "name": "python",
   "nbconvert_exporter": "python",
   "pygments_lexer": "ipython3",
   "version": "3.9.18"
  }
 },
 "nbformat": 4,
 "nbformat_minor": 5
}
