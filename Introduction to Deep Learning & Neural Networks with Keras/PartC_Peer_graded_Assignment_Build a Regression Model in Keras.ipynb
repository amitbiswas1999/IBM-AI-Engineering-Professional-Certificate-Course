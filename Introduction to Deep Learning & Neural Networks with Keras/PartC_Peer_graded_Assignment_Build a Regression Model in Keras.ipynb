{
 "cells": [
  {
   "cell_type": "markdown",
   "id": "41931718",
   "metadata": {},
   "source": [
    "# Load the dataset"
   ]
  },
  {
   "cell_type": "code",
   "execution_count": 1,
   "id": "d170843d",
   "metadata": {},
   "outputs": [],
   "source": [
    "import warnings\n",
    "warnings.filterwarnings('ignore')"
   ]
  },
  {
   "cell_type": "code",
   "execution_count": 2,
   "id": "04fc3f48",
   "metadata": {},
   "outputs": [
    {
     "data": {
      "text/html": [
       "<div>\n",
       "<style scoped>\n",
       "    .dataframe tbody tr th:only-of-type {\n",
       "        vertical-align: middle;\n",
       "    }\n",
       "\n",
       "    .dataframe tbody tr th {\n",
       "        vertical-align: top;\n",
       "    }\n",
       "\n",
       "    .dataframe thead th {\n",
       "        text-align: right;\n",
       "    }\n",
       "</style>\n",
       "<table border=\"1\" class=\"dataframe\">\n",
       "  <thead>\n",
       "    <tr style=\"text-align: right;\">\n",
       "      <th></th>\n",
       "      <th>Cement</th>\n",
       "      <th>Blast Furnace Slag</th>\n",
       "      <th>Fly Ash</th>\n",
       "      <th>Water</th>\n",
       "      <th>Superplasticizer</th>\n",
       "      <th>Coarse Aggregate</th>\n",
       "      <th>Fine Aggregate</th>\n",
       "      <th>Age</th>\n",
       "      <th>Strength</th>\n",
       "    </tr>\n",
       "  </thead>\n",
       "  <tbody>\n",
       "    <tr>\n",
       "      <th>0</th>\n",
       "      <td>540.0</td>\n",
       "      <td>0.0</td>\n",
       "      <td>0.0</td>\n",
       "      <td>162.0</td>\n",
       "      <td>2.5</td>\n",
       "      <td>1040.0</td>\n",
       "      <td>676.0</td>\n",
       "      <td>28</td>\n",
       "      <td>79.99</td>\n",
       "    </tr>\n",
       "    <tr>\n",
       "      <th>1</th>\n",
       "      <td>540.0</td>\n",
       "      <td>0.0</td>\n",
       "      <td>0.0</td>\n",
       "      <td>162.0</td>\n",
       "      <td>2.5</td>\n",
       "      <td>1055.0</td>\n",
       "      <td>676.0</td>\n",
       "      <td>28</td>\n",
       "      <td>61.89</td>\n",
       "    </tr>\n",
       "    <tr>\n",
       "      <th>2</th>\n",
       "      <td>332.5</td>\n",
       "      <td>142.5</td>\n",
       "      <td>0.0</td>\n",
       "      <td>228.0</td>\n",
       "      <td>0.0</td>\n",
       "      <td>932.0</td>\n",
       "      <td>594.0</td>\n",
       "      <td>270</td>\n",
       "      <td>40.27</td>\n",
       "    </tr>\n",
       "    <tr>\n",
       "      <th>3</th>\n",
       "      <td>332.5</td>\n",
       "      <td>142.5</td>\n",
       "      <td>0.0</td>\n",
       "      <td>228.0</td>\n",
       "      <td>0.0</td>\n",
       "      <td>932.0</td>\n",
       "      <td>594.0</td>\n",
       "      <td>365</td>\n",
       "      <td>41.05</td>\n",
       "    </tr>\n",
       "    <tr>\n",
       "      <th>4</th>\n",
       "      <td>198.6</td>\n",
       "      <td>132.4</td>\n",
       "      <td>0.0</td>\n",
       "      <td>192.0</td>\n",
       "      <td>0.0</td>\n",
       "      <td>978.4</td>\n",
       "      <td>825.5</td>\n",
       "      <td>360</td>\n",
       "      <td>44.30</td>\n",
       "    </tr>\n",
       "  </tbody>\n",
       "</table>\n",
       "</div>"
      ],
      "text/plain": [
       "   Cement  Blast Furnace Slag  Fly Ash  Water  Superplasticizer  \\\n",
       "0   540.0                 0.0      0.0  162.0               2.5   \n",
       "1   540.0                 0.0      0.0  162.0               2.5   \n",
       "2   332.5               142.5      0.0  228.0               0.0   \n",
       "3   332.5               142.5      0.0  228.0               0.0   \n",
       "4   198.6               132.4      0.0  192.0               0.0   \n",
       "\n",
       "   Coarse Aggregate  Fine Aggregate  Age  Strength  \n",
       "0            1040.0           676.0   28     79.99  \n",
       "1            1055.0           676.0   28     61.89  \n",
       "2             932.0           594.0  270     40.27  \n",
       "3             932.0           594.0  365     41.05  \n",
       "4             978.4           825.5  360     44.30  "
      ]
     },
     "execution_count": 2,
     "metadata": {},
     "output_type": "execute_result"
    }
   ],
   "source": [
    "import pandas as pd\n",
    "import numpy as np\n",
    "\n",
    "df = pd.read_csv('concrete_data.csv')\n",
    "df.head()"
   ]
  },
  {
   "cell_type": "code",
   "execution_count": 3,
   "id": "a5fb06ad",
   "metadata": {},
   "outputs": [
    {
     "data": {
      "text/plain": [
       "(1030, 9)"
      ]
     },
     "execution_count": 3,
     "metadata": {},
     "output_type": "execute_result"
    }
   ],
   "source": [
    "df.shape  #check Number of datapoints"
   ]
  },
  {
   "cell_type": "code",
   "execution_count": 4,
   "id": "33206fa9",
   "metadata": {},
   "outputs": [
    {
     "name": "stdout",
     "output_type": "stream",
     "text": [
      "<class 'pandas.core.frame.DataFrame'>\n",
      "RangeIndex: 1030 entries, 0 to 1029\n",
      "Data columns (total 9 columns):\n",
      " #   Column              Non-Null Count  Dtype  \n",
      "---  ------              --------------  -----  \n",
      " 0   Cement              1030 non-null   float64\n",
      " 1   Blast Furnace Slag  1030 non-null   float64\n",
      " 2   Fly Ash             1030 non-null   float64\n",
      " 3   Water               1030 non-null   float64\n",
      " 4   Superplasticizer    1030 non-null   float64\n",
      " 5   Coarse Aggregate    1030 non-null   float64\n",
      " 6   Fine Aggregate      1030 non-null   float64\n",
      " 7   Age                 1030 non-null   int64  \n",
      " 8   Strength            1030 non-null   float64\n",
      "dtypes: float64(8), int64(1)\n",
      "memory usage: 72.5 KB\n"
     ]
    }
   ],
   "source": [
    "df.info()"
   ]
  },
  {
   "cell_type": "markdown",
   "id": "30fe5b86",
   "metadata": {},
   "source": [
    "there is no null values"
   ]
  },
  {
   "cell_type": "markdown",
   "id": "4c17d4c5",
   "metadata": {},
   "source": [
    "# Split data into X and y"
   ]
  },
  {
   "cell_type": "code",
   "execution_count": 5,
   "id": "3e02772a",
   "metadata": {},
   "outputs": [],
   "source": [
    "X = df.drop('Strength', axis=1)\n",
    "y = df['Strength']"
   ]
  },
  {
   "cell_type": "markdown",
   "id": "af1b037f",
   "metadata": {},
   "source": [
    "#  normalize the data by substracting the mean and dividing by the standard deviation"
   ]
  },
  {
   "cell_type": "code",
   "execution_count": 6,
   "id": "57041920",
   "metadata": {},
   "outputs": [
    {
     "data": {
      "text/html": [
       "<div>\n",
       "<style scoped>\n",
       "    .dataframe tbody tr th:only-of-type {\n",
       "        vertical-align: middle;\n",
       "    }\n",
       "\n",
       "    .dataframe tbody tr th {\n",
       "        vertical-align: top;\n",
       "    }\n",
       "\n",
       "    .dataframe thead th {\n",
       "        text-align: right;\n",
       "    }\n",
       "</style>\n",
       "<table border=\"1\" class=\"dataframe\">\n",
       "  <thead>\n",
       "    <tr style=\"text-align: right;\">\n",
       "      <th></th>\n",
       "      <th>Cement</th>\n",
       "      <th>Blast Furnace Slag</th>\n",
       "      <th>Fly Ash</th>\n",
       "      <th>Water</th>\n",
       "      <th>Superplasticizer</th>\n",
       "      <th>Coarse Aggregate</th>\n",
       "      <th>Fine Aggregate</th>\n",
       "      <th>Age</th>\n",
       "    </tr>\n",
       "  </thead>\n",
       "  <tbody>\n",
       "    <tr>\n",
       "      <th>0</th>\n",
       "      <td>2.476712</td>\n",
       "      <td>-0.856472</td>\n",
       "      <td>-0.846733</td>\n",
       "      <td>-0.916319</td>\n",
       "      <td>-0.620147</td>\n",
       "      <td>0.862735</td>\n",
       "      <td>-1.217079</td>\n",
       "      <td>-0.279597</td>\n",
       "    </tr>\n",
       "    <tr>\n",
       "      <th>1</th>\n",
       "      <td>2.476712</td>\n",
       "      <td>-0.856472</td>\n",
       "      <td>-0.846733</td>\n",
       "      <td>-0.916319</td>\n",
       "      <td>-0.620147</td>\n",
       "      <td>1.055651</td>\n",
       "      <td>-1.217079</td>\n",
       "      <td>-0.279597</td>\n",
       "    </tr>\n",
       "    <tr>\n",
       "      <th>2</th>\n",
       "      <td>0.491187</td>\n",
       "      <td>0.795140</td>\n",
       "      <td>-0.846733</td>\n",
       "      <td>2.174405</td>\n",
       "      <td>-1.038638</td>\n",
       "      <td>-0.526262</td>\n",
       "      <td>-2.239829</td>\n",
       "      <td>3.551340</td>\n",
       "    </tr>\n",
       "    <tr>\n",
       "      <th>3</th>\n",
       "      <td>0.491187</td>\n",
       "      <td>0.795140</td>\n",
       "      <td>-0.846733</td>\n",
       "      <td>2.174405</td>\n",
       "      <td>-1.038638</td>\n",
       "      <td>-0.526262</td>\n",
       "      <td>-2.239829</td>\n",
       "      <td>5.055221</td>\n",
       "    </tr>\n",
       "    <tr>\n",
       "      <th>4</th>\n",
       "      <td>-0.790075</td>\n",
       "      <td>0.678079</td>\n",
       "      <td>-0.846733</td>\n",
       "      <td>0.488555</td>\n",
       "      <td>-1.038638</td>\n",
       "      <td>0.070492</td>\n",
       "      <td>0.647569</td>\n",
       "      <td>4.976069</td>\n",
       "    </tr>\n",
       "  </tbody>\n",
       "</table>\n",
       "</div>"
      ],
      "text/plain": [
       "     Cement  Blast Furnace Slag   Fly Ash     Water  Superplasticizer  \\\n",
       "0  2.476712           -0.856472 -0.846733 -0.916319         -0.620147   \n",
       "1  2.476712           -0.856472 -0.846733 -0.916319         -0.620147   \n",
       "2  0.491187            0.795140 -0.846733  2.174405         -1.038638   \n",
       "3  0.491187            0.795140 -0.846733  2.174405         -1.038638   \n",
       "4 -0.790075            0.678079 -0.846733  0.488555         -1.038638   \n",
       "\n",
       "   Coarse Aggregate  Fine Aggregate       Age  \n",
       "0          0.862735       -1.217079 -0.279597  \n",
       "1          1.055651       -1.217079 -0.279597  \n",
       "2         -0.526262       -2.239829  3.551340  \n",
       "3         -0.526262       -2.239829  5.055221  \n",
       "4          0.070492        0.647569  4.976069  "
      ]
     },
     "execution_count": 6,
     "metadata": {},
     "output_type": "execute_result"
    }
   ],
   "source": [
    "X_norm= (X - X.mean()) / X.std()\n",
    "X_norm.head()"
   ]
  },
  {
   "cell_type": "markdown",
   "id": "912335aa",
   "metadata": {},
   "source": [
    "# Use the Keras library to build a neural network with the following:\n",
    "\n",
    "- One hidden layer of 10 nodes, and a ReLU activation function\n",
    "\n",
    "- Use the adam optimizer and the mean squared error  as the loss function"
   ]
  },
  {
   "cell_type": "code",
   "execution_count": 8,
   "id": "1f40c667",
   "metadata": {},
   "outputs": [],
   "source": [
    "import keras\n",
    "from keras.models import Sequential\n",
    "from keras.layers import Dense\n",
    "\n",
    "def ANN_model():\n",
    "    # create model\n",
    "    model = Sequential()\n",
    "    model.add(Dense(10, activation='relu', input_shape=(X.shape[1],)))\n",
    "    model.add(Dense(1))\n",
    "    \n",
    "    # compile model\n",
    "    model.compile(optimizer='adam', loss='mean_squared_error')\n",
    "    return model"
   ]
  },
  {
   "cell_type": "markdown",
   "id": "e5fc91b6",
   "metadata": {},
   "source": [
    "#  split the data into a training and test sets by holding 30% of the data for testing"
   ]
  },
  {
   "cell_type": "code",
   "execution_count": 9,
   "id": "7b9bd8c9",
   "metadata": {},
   "outputs": [],
   "source": [
    "from sklearn.model_selection import train_test_split\n",
    "X_train, X_test, y_train, y_test = train_test_split(X_norm, y, test_size=0.3, random_state=42)\n"
   ]
  },
  {
   "cell_type": "markdown",
   "id": "2c524619",
   "metadata": {},
   "source": [
    "#  call the function now to create our model. (100 epochs)"
   ]
  },
  {
   "cell_type": "code",
   "execution_count": 11,
   "id": "50ebf217",
   "metadata": {},
   "outputs": [
    {
     "name": "stdout",
     "output_type": "stream",
     "text": [
      "Epoch 1/100\n",
      "23/23 [==============================] - 1s 3ms/step - loss: 1554.1368\n",
      "Epoch 2/100\n",
      "23/23 [==============================] - 0s 3ms/step - loss: 1541.9381\n",
      "Epoch 3/100\n",
      "23/23 [==============================] - 0s 3ms/step - loss: 1529.2323\n",
      "Epoch 4/100\n",
      "23/23 [==============================] - 0s 4ms/step - loss: 1515.3210\n",
      "Epoch 5/100\n",
      "23/23 [==============================] - 0s 3ms/step - loss: 1500.2460\n",
      "Epoch 6/100\n",
      "23/23 [==============================] - 0s 3ms/step - loss: 1483.7155\n",
      "Epoch 7/100\n",
      "23/23 [==============================] - 0s 3ms/step - loss: 1465.7512\n",
      "Epoch 8/100\n",
      "23/23 [==============================] - 0s 3ms/step - loss: 1446.3031\n",
      "Epoch 9/100\n",
      "23/23 [==============================] - 0s 3ms/step - loss: 1425.2151\n",
      "Epoch 10/100\n",
      "23/23 [==============================] - 0s 3ms/step - loss: 1402.4703\n",
      "Epoch 11/100\n",
      "23/23 [==============================] - 0s 3ms/step - loss: 1378.1782\n",
      "Epoch 12/100\n",
      "23/23 [==============================] - 0s 3ms/step - loss: 1352.2096\n",
      "Epoch 13/100\n",
      "23/23 [==============================] - 0s 3ms/step - loss: 1324.6139\n",
      "Epoch 14/100\n",
      "23/23 [==============================] - 0s 4ms/step - loss: 1295.2134\n",
      "Epoch 15/100\n",
      "23/23 [==============================] - 0s 3ms/step - loss: 1264.7255\n",
      "Epoch 16/100\n",
      "23/23 [==============================] - 0s 3ms/step - loss: 1232.0848\n",
      "Epoch 17/100\n",
      "23/23 [==============================] - 0s 4ms/step - loss: 1198.4542\n",
      "Epoch 18/100\n",
      "23/23 [==============================] - 0s 3ms/step - loss: 1162.8092\n",
      "Epoch 19/100\n",
      "23/23 [==============================] - 0s 5ms/step - loss: 1125.7523\n",
      "Epoch 20/100\n",
      "23/23 [==============================] - 0s 4ms/step - loss: 1087.6064\n",
      "Epoch 21/100\n",
      "23/23 [==============================] - 0s 5ms/step - loss: 1048.1771\n",
      "Epoch 22/100\n",
      "23/23 [==============================] - 0s 3ms/step - loss: 1007.0976\n",
      "Epoch 23/100\n",
      "23/23 [==============================] - 0s 4ms/step - loss: 966.2834\n",
      "Epoch 24/100\n",
      "23/23 [==============================] - 0s 4ms/step - loss: 925.2104\n",
      "Epoch 25/100\n",
      "23/23 [==============================] - 0s 4ms/step - loss: 883.4756\n",
      "Epoch 26/100\n",
      "23/23 [==============================] - 0s 4ms/step - loss: 842.4887\n",
      "Epoch 27/100\n",
      "23/23 [==============================] - 0s 5ms/step - loss: 802.1434\n",
      "Epoch 28/100\n",
      "23/23 [==============================] - 0s 4ms/step - loss: 762.2486\n",
      "Epoch 29/100\n",
      "23/23 [==============================] - 0s 4ms/step - loss: 722.9078\n",
      "Epoch 30/100\n",
      "23/23 [==============================] - 0s 3ms/step - loss: 685.1989\n",
      "Epoch 31/100\n",
      "23/23 [==============================] - 0s 3ms/step - loss: 648.8563\n",
      "Epoch 32/100\n",
      "23/23 [==============================] - 0s 3ms/step - loss: 613.6288\n",
      "Epoch 33/100\n",
      "23/23 [==============================] - 0s 3ms/step - loss: 579.9916\n",
      "Epoch 34/100\n",
      "23/23 [==============================] - 0s 3ms/step - loss: 548.0267\n",
      "Epoch 35/100\n",
      "23/23 [==============================] - 0s 3ms/step - loss: 518.1466\n",
      "Epoch 36/100\n",
      "23/23 [==============================] - 0s 4ms/step - loss: 489.6052\n",
      "Epoch 37/100\n",
      "23/23 [==============================] - 0s 4ms/step - loss: 463.0228\n",
      "Epoch 38/100\n",
      "23/23 [==============================] - 0s 3ms/step - loss: 437.9822\n",
      "Epoch 39/100\n",
      "23/23 [==============================] - 0s 3ms/step - loss: 414.9478\n",
      "Epoch 40/100\n",
      "23/23 [==============================] - 0s 4ms/step - loss: 393.8269\n",
      "Epoch 41/100\n",
      "23/23 [==============================] - 0s 3ms/step - loss: 373.9499\n",
      "Epoch 42/100\n",
      "23/23 [==============================] - 0s 3ms/step - loss: 355.9420\n",
      "Epoch 43/100\n",
      "23/23 [==============================] - 0s 3ms/step - loss: 340.0145\n",
      "Epoch 44/100\n",
      "23/23 [==============================] - 0s 3ms/step - loss: 324.2675\n",
      "Epoch 45/100\n",
      "23/23 [==============================] - 0s 3ms/step - loss: 310.7813\n",
      "Epoch 46/100\n",
      "23/23 [==============================] - 0s 3ms/step - loss: 298.2419\n",
      "Epoch 47/100\n",
      "23/23 [==============================] - 0s 3ms/step - loss: 286.8599\n",
      "Epoch 48/100\n",
      "23/23 [==============================] - 0s 3ms/step - loss: 276.4998\n",
      "Epoch 49/100\n",
      "23/23 [==============================] - 0s 3ms/step - loss: 267.0734\n",
      "Epoch 50/100\n",
      "23/23 [==============================] - 0s 4ms/step - loss: 258.2170\n",
      "Epoch 51/100\n",
      "23/23 [==============================] - 0s 4ms/step - loss: 250.4559\n",
      "Epoch 52/100\n",
      "23/23 [==============================] - 0s 9ms/step - loss: 243.4247\n",
      "Epoch 53/100\n",
      "23/23 [==============================] - 0s 5ms/step - loss: 236.8400\n",
      "Epoch 54/100\n",
      "23/23 [==============================] - 0s 4ms/step - loss: 230.7663\n",
      "Epoch 55/100\n",
      "23/23 [==============================] - 0s 3ms/step - loss: 225.4501\n",
      "Epoch 56/100\n",
      "23/23 [==============================] - 0s 3ms/step - loss: 220.2144\n",
      "Epoch 57/100\n",
      "23/23 [==============================] - 0s 3ms/step - loss: 215.6799\n",
      "Epoch 58/100\n",
      "23/23 [==============================] - 0s 3ms/step - loss: 211.3787\n",
      "Epoch 59/100\n",
      "23/23 [==============================] - 0s 4ms/step - loss: 207.4380\n",
      "Epoch 60/100\n",
      "23/23 [==============================] - 0s 3ms/step - loss: 203.7152\n",
      "Epoch 61/100\n",
      "23/23 [==============================] - 0s 3ms/step - loss: 200.4356\n",
      "Epoch 62/100\n",
      "23/23 [==============================] - 0s 3ms/step - loss: 197.2705\n",
      "Epoch 63/100\n",
      "23/23 [==============================] - 0s 3ms/step - loss: 194.3434\n",
      "Epoch 64/100\n",
      "23/23 [==============================] - 0s 3ms/step - loss: 191.6458\n",
      "Epoch 65/100\n",
      "23/23 [==============================] - 0s 4ms/step - loss: 189.0033\n",
      "Epoch 66/100\n",
      "23/23 [==============================] - 0s 3ms/step - loss: 186.6569\n",
      "Epoch 67/100\n",
      "23/23 [==============================] - 0s 3ms/step - loss: 184.4449\n",
      "Epoch 68/100\n",
      "23/23 [==============================] - 0s 4ms/step - loss: 182.3366\n",
      "Epoch 69/100\n",
      "23/23 [==============================] - 0s 3ms/step - loss: 180.3844\n",
      "Epoch 70/100\n",
      "23/23 [==============================] - 0s 3ms/step - loss: 178.4337\n",
      "Epoch 71/100\n",
      "23/23 [==============================] - 0s 3ms/step - loss: 176.5992\n",
      "Epoch 72/100\n",
      "23/23 [==============================] - 0s 3ms/step - loss: 174.8663\n",
      "Epoch 73/100\n",
      "23/23 [==============================] - 0s 3ms/step - loss: 173.2428\n",
      "Epoch 74/100\n",
      "23/23 [==============================] - 0s 3ms/step - loss: 171.5752\n",
      "Epoch 75/100\n",
      "23/23 [==============================] - 0s 3ms/step - loss: 170.0741\n",
      "Epoch 76/100\n",
      "23/23 [==============================] - 0s 3ms/step - loss: 168.5755\n",
      "Epoch 77/100\n",
      "23/23 [==============================] - 0s 3ms/step - loss: 167.1357\n",
      "Epoch 78/100\n",
      "23/23 [==============================] - 0s 4ms/step - loss: 165.8993\n",
      "Epoch 79/100\n",
      "23/23 [==============================] - 0s 3ms/step - loss: 164.5184\n",
      "Epoch 80/100\n",
      "23/23 [==============================] - 0s 3ms/step - loss: 163.1568\n",
      "Epoch 81/100\n",
      "23/23 [==============================] - 0s 3ms/step - loss: 162.0841\n",
      "Epoch 82/100\n",
      "23/23 [==============================] - 0s 3ms/step - loss: 160.8819\n",
      "Epoch 83/100\n",
      "23/23 [==============================] - 0s 4ms/step - loss: 159.7658\n",
      "Epoch 84/100\n",
      "23/23 [==============================] - 0s 3ms/step - loss: 158.7111\n",
      "Epoch 85/100\n",
      "23/23 [==============================] - 0s 3ms/step - loss: 157.7019\n",
      "Epoch 86/100\n",
      "23/23 [==============================] - 0s 4ms/step - loss: 156.5769\n",
      "Epoch 87/100\n",
      "23/23 [==============================] - 0s 4ms/step - loss: 155.5840\n",
      "Epoch 88/100\n",
      "23/23 [==============================] - 0s 4ms/step - loss: 154.6246\n",
      "Epoch 89/100\n",
      "23/23 [==============================] - 0s 3ms/step - loss: 153.7493\n",
      "Epoch 90/100\n",
      "23/23 [==============================] - 0s 4ms/step - loss: 152.8245\n",
      "Epoch 91/100\n",
      "23/23 [==============================] - 0s 3ms/step - loss: 152.0085\n",
      "Epoch 92/100\n",
      "23/23 [==============================] - 0s 3ms/step - loss: 151.1955\n",
      "Epoch 93/100\n",
      "23/23 [==============================] - 0s 3ms/step - loss: 150.2672\n",
      "Epoch 94/100\n",
      "23/23 [==============================] - 0s 3ms/step - loss: 149.5816\n",
      "Epoch 95/100\n",
      "23/23 [==============================] - 0s 3ms/step - loss: 148.7277\n",
      "Epoch 96/100\n",
      "23/23 [==============================] - 0s 3ms/step - loss: 147.9601\n",
      "Epoch 97/100\n",
      "23/23 [==============================] - 0s 3ms/step - loss: 147.2398\n",
      "Epoch 98/100\n",
      "23/23 [==============================] - 0s 3ms/step - loss: 146.4967\n",
      "Epoch 99/100\n"
     ]
    },
    {
     "name": "stdout",
     "output_type": "stream",
     "text": [
      "23/23 [==============================] - 0s 3ms/step - loss: 145.9097\n",
      "Epoch 100/100\n",
      "23/23 [==============================] - 0s 3ms/step - loss: 145.1239\n"
     ]
    },
    {
     "data": {
      "text/plain": [
       "<keras.src.callbacks.History at 0x15488807190>"
      ]
     },
     "execution_count": 11,
     "metadata": {},
     "output_type": "execute_result"
    }
   ],
   "source": [
    "model = ANN_model()\n",
    "epochs = 100\n",
    "model.fit(X_train, y_train, epochs=epochs, verbose=1)"
   ]
  },
  {
   "cell_type": "markdown",
   "id": "4c1f39a1",
   "metadata": {},
   "source": [
    "#  Evaluate the model on the test data "
   ]
  },
  {
   "cell_type": "code",
   "execution_count": 12,
   "id": "72c4b43f",
   "metadata": {},
   "outputs": [
    {
     "name": "stdout",
     "output_type": "stream",
     "text": [
      "10/10 [==============================] - 0s 3ms/step - loss: 143.2319\n",
      "10/10 [==============================] - 0s 4ms/step\n"
     ]
    },
    {
     "data": {
      "text/plain": [
       "143.2318878173828"
      ]
     },
     "execution_count": 12,
     "metadata": {},
     "output_type": "execute_result"
    }
   ],
   "source": [
    "loss_val = model.evaluate(X_test, y_test)\n",
    "y_pred = model.predict(X_test)\n",
    "loss_val"
   ]
  },
  {
   "cell_type": "code",
   "execution_count": 13,
   "id": "260a010f",
   "metadata": {},
   "outputs": [
    {
     "name": "stdout",
     "output_type": "stream",
     "text": [
      "143.23188349477962 0.0\n"
     ]
    }
   ],
   "source": [
    "from sklearn.metrics import mean_squared_error\n",
    "mean_square_error = mean_squared_error(y_test, y_pred)\n",
    "mean = np.mean(mean_square_error)\n",
    "standard_deviation = np.std(mean_square_error)\n",
    "print(mean, standard_deviation)"
   ]
  },
  {
   "cell_type": "markdown",
   "id": "fda5eb66",
   "metadata": {},
   "source": [
    "#  Run the model for 100 epochs"
   ]
  },
  {
   "cell_type": "code",
   "execution_count": 15,
   "id": "3b9f9bf8",
   "metadata": {},
   "outputs": [
    {
     "name": "stdout",
     "output_type": "stream",
     "text": [
      "10/10 [==============================] - 0s 3ms/step\n",
      "10/10 [==============================] - 0s 6ms/step\n",
      "10/10 [==============================] - 0s 2ms/step\n",
      "10/10 [==============================] - 0s 5ms/step\n",
      "10/10 [==============================] - 0s 3ms/step\n",
      "10/10 [==============================] - 0s 7ms/step\n",
      "10/10 [==============================] - 0s 2ms/step\n",
      "10/10 [==============================] - 0s 2ms/step\n",
      "10/10 [==============================] - 0s 2ms/step\n",
      "10/10 [==============================] - 0s 3ms/step\n",
      "10/10 [==============================] - 0s 2ms/step\n",
      "10/10 [==============================] - 0s 3ms/step\n",
      "10/10 [==============================] - 0s 3ms/step\n",
      "10/10 [==============================] - 0s 4ms/step\n",
      "10/10 [==============================] - 0s 4ms/step\n",
      "10/10 [==============================] - 0s 4ms/step\n",
      "10/10 [==============================] - 0s 4ms/step\n",
      "10/10 [==============================] - 0s 2ms/step\n",
      "10/10 [==============================] - 0s 3ms/step\n",
      "10/10 [==============================] - 0s 3ms/step\n",
      "10/10 [==============================] - 0s 4ms/step\n",
      "10/10 [==============================] - 0s 4ms/step\n",
      "10/10 [==============================] - 0s 5ms/step\n",
      "10/10 [==============================] - 0s 3ms/step\n",
      "10/10 [==============================] - 0s 4ms/step\n",
      "10/10 [==============================] - 0s 2ms/step\n",
      "10/10 [==============================] - 0s 4ms/step\n",
      "10/10 [==============================] - 0s 4ms/step\n",
      "10/10 [==============================] - 0s 6ms/step\n",
      "10/10 [==============================] - 0s 3ms/step\n",
      "10/10 [==============================] - 0s 3ms/step\n",
      "10/10 [==============================] - 0s 4ms/step\n",
      "10/10 [==============================] - 0s 3ms/step\n",
      "10/10 [==============================] - 0s 2ms/step\n",
      "10/10 [==============================] - 0s 5ms/step\n",
      "10/10 [==============================] - 0s 4ms/step\n",
      "10/10 [==============================] - 0s 4ms/step\n",
      "10/10 [==============================] - 0s 2ms/step\n",
      "10/10 [==============================] - 0s 4ms/step\n",
      "10/10 [==============================] - 0s 4ms/step\n",
      "10/10 [==============================] - 0s 5ms/step\n",
      "10/10 [==============================] - 0s 4ms/step\n",
      "10/10 [==============================] - 0s 4ms/step\n",
      "10/10 [==============================] - 0s 5ms/step\n",
      "10/10 [==============================] - 0s 5ms/step\n",
      "10/10 [==============================] - 0s 4ms/step\n",
      "10/10 [==============================] - 0s 3ms/step\n",
      "10/10 [==============================] - 0s 3ms/step\n",
      "10/10 [==============================] - 0s 5ms/step\n",
      "10/10 [==============================] - 0s 2ms/step\n"
     ]
    }
   ],
   "source": [
    "# Number of repetitions\n",
    "repetitions = 100\n",
    "\n",
    "# Lists to store mean squared errors\n",
    "mse_list = []\n",
    "\n",
    "# Repeat the process 50 times\n",
    "for _ in range(repetitions):\n",
    "    # Split the data into training and test sets\n",
    "    X_train, X_test, y_train, y_test = train_test_split(X_norm, y, test_size=0.3, random_state=42)\n",
    "\n",
    "    model = ANN_model()\n",
    "    # Train the model\n",
    "    model.fit(X_train, y_train, epochs=50, verbose=0)\n",
    "\n",
    "    # Predict on the test set\n",
    "    y_pred = model.predict(X_test)\n",
    "\n",
    "    # Calculate mean squared error and append to the list\n",
    "    mse = mean_squared_error(y_test, y_pred)\n",
    "    mse_list.append(mse)\n"
   ]
  },
  {
   "cell_type": "markdown",
   "id": "fad75520",
   "metadata": {},
   "source": [
    "#  mean and the standard deviation of the mean squared errors (100 epochs)"
   ]
  },
  {
   "cell_type": "code",
   "execution_count": 17,
   "id": "c03b4c42",
   "metadata": {},
   "outputs": [
    {
     "name": "stdout",
     "output_type": "stream",
     "text": [
      "Below is the mean and standard deviation of the Normalized Data \n",
      "\n",
      "Mean: 353.4767812049374\n",
      "Standard Deviation: 96.11796416724917\n"
     ]
    }
   ],
   "source": [
    "mean_squared_errors = np.array(mse_list)\n",
    "mean = np.mean(mean_squared_errors)\n",
    "standard_deviation = np.std(mse_list)\n",
    "\n",
    "print(\"Below is the mean and standard deviation of the Normalized Data \" + \"\\n\")\n",
    "\n",
    "print(\"Mean: \"+str(mean))\n",
    "print(\"Standard Deviation: \"+str(standard_deviation))"
   ]
  },
  {
   "cell_type": "code",
   "execution_count": null,
   "id": "98ab3293",
   "metadata": {},
   "outputs": [],
   "source": []
  }
 ],
 "metadata": {
  "kernelspec": {
   "display_name": "Python 3 (ipykernel)",
   "language": "python",
   "name": "python3"
  },
  "language_info": {
   "codemirror_mode": {
    "name": "ipython",
    "version": 3
   },
   "file_extension": ".py",
   "mimetype": "text/x-python",
   "name": "python",
   "nbconvert_exporter": "python",
   "pygments_lexer": "ipython3",
   "version": "3.9.18"
  }
 },
 "nbformat": 4,
 "nbformat_minor": 5
}
